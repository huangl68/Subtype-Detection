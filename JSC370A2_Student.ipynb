{
 "cells": [
  {
   "cell_type": "code",
   "execution_count": 57,
   "metadata": {},
   "outputs": [
    {
     "data": {
      "text/html": [
       "\n",
       "<script src='//code.jquery.com/jquery-3.3.1.min.js'></script>\n",
       "<script>\n",
       "code_show=true; \n",
       "function code_toggle() {\n",
       " if (code_show){\n",
       " $('div.input').hide();\n",
       " $('div .jp-CodeCell .jp-Cell-inputWrapper').hide();\n",
       " } else {\n",
       " $('div.input').show();\n",
       " $('div .jp-CodeCell .jp-Cell-inputWrapper').show();\n",
       " }\n",
       " code_show = !code_show\n",
       "}\n",
       "$( document ).ready(code_toggle);\n",
       "</script>\n",
       "<form action=\"javascript:code_toggle()\"><input type=\"submit\" value=\"Code on/off\"></form>"
      ],
      "text/plain": [
       "<IPython.core.display.HTML object>"
      ]
     },
     "execution_count": 57,
     "metadata": {},
     "output_type": "execute_result"
    }
   ],
   "source": [
    "from IPython.display import HTML\n",
    "\n",
    "HTML('''\n",
    "<script src='//code.jquery.com/jquery-3.3.1.min.js'></script>\n",
    "<script>\n",
    "code_show=true; \n",
    "function code_toggle() {\n",
    " if (code_show){\n",
    " $('div.input').hide();\n",
    " $('div .jp-CodeCell .jp-Cell-inputWrapper').hide();\n",
    " } else {\n",
    " $('div.input').show();\n",
    " $('div .jp-CodeCell .jp-Cell-inputWrapper').show();\n",
    " }\n",
    " code_show = !code_show\n",
    "}\n",
    "$( document ).ready(code_toggle);\n",
    "</script>\n",
    "<form action=\"javascript:code_toggle()\"><input type=\"submit\" value=\"Code on/off\"></form>''')"
   ]
  },
  {
   "cell_type": "code",
   "execution_count": 58,
   "metadata": {},
   "outputs": [
    {
     "data": {
      "text/html": [
       "<style>\n",
       "div.prompt {display:none}\n",
       "</style>\n"
      ],
      "text/plain": [
       "<IPython.core.display.HTML object>"
      ]
     },
     "metadata": {},
     "output_type": "display_data"
    }
   ],
   "source": [
    "%%HTML\n",
    "<style>\n",
    "div.prompt {display:none}\n",
    "</style>"
   ]
  },
  {
   "cell_type": "markdown",
   "metadata": {},
   "source": [
    "# JSC370 Assignment #2\n",
    "\n",
    "## Due dates\n",
    "\n",
    "**Presentation:** Feb 11 in Tutorial, 18:00 - 20:00.\n",
    "\n",
    "**Written Report, Jupyter Notebook/RStudio Markdown, other files:** Feb. 13 before class, 16:30.\n",
    "\n",
    "\n",
    "## Background\n",
    "\n",
    "\n",
    "## Question\n",
    "\n",
    "Can you identify distinct biological “subtypes” of patients with liver cancer, using The Cancer Genome Atlas (TCGA) transcriptome sequencing data, that have different survival times?  If you are able to identify subtypes of patients then what impact does age at diagnosis, tumor stage, and sex have on the relationship between survival and subgroup?\n",
    "\n",
    "\n",
    "## Data\n",
    "\n",
    "### Access\n",
    "\n",
    "The data can be obtained by visiting <https://portal.gdc.cancer.gov> and issuing the following query. \n",
    "\n",
    "![](download_liver_data.png)\n",
    "\n",
    "### Data Definitions\n",
    "\n",
    "The data come from different studies conducted at different institutions and are submitted to the Genomic Data Commons (GDC). The data requirements are outlined [here](https://gdc.cancer.gov/content/selecting-common-cross-study-clinical-data-elements#dmwg), and a data dictionary can be found [here](https://docs.gdc.cancer.gov/Data_Dictionary/viewer/).  \n",
    "\n",
    "\n",
    "### Linking Clinical Data and Genetic Expression Data\n",
    "\n",
    "- *Clinical data* is in the file `clinical.tsv` in the folder beginning with the name `clinical.cart`. \n",
    "\n",
    "- *Gene expression data* is in the folder beginning with `gdc_download`.  There are 60483 genes measured on each patient.  An explanation of the measurement is [here](https://docs.gdc.cancer.gov/Encyclopedia/pages/HTSeq-FPKM/)."
   ]
  },
  {
   "cell_type": "code",
   "execution_count": 59,
   "metadata": {},
   "outputs": [
    {
     "data": {
      "text/plain": [
       "'gdc_download_20200130_160123.454228/abce9187-0834-49c4-998d-b44d2472458a/413446bc-5b88-4b58-8105-abd9cd7a5ddd.FPKM.txt.gz'"
      ]
     },
     "execution_count": 59,
     "metadata": {},
     "output_type": "execute_result"
    }
   ],
   "source": [
    "# see https://docs.python.org/3.8/library/glob.html\n",
    "import glob\n",
    "# get list of file names\n",
    "genefilenames = glob.glob('gdc_download_20200130_160123.454228/**/*.gz', recursive = True)\n",
    "generna = genefilenames[0]\n",
    "generna"
   ]
  },
  {
   "cell_type": "code",
   "execution_count": 20,
   "metadata": {},
   "outputs": [
    {
     "name": "stdout",
     "output_type": "stream",
     "text": [
      "gene      60483\n",
      "rna       60483\n",
      "logrna    60483\n",
      "dtype: int64\n"
     ]
    },
    {
     "data": {
      "text/html": [
       "<div>\n",
       "<style scoped>\n",
       "    .dataframe tbody tr th:only-of-type {\n",
       "        vertical-align: middle;\n",
       "    }\n",
       "\n",
       "    .dataframe tbody tr th {\n",
       "        vertical-align: top;\n",
       "    }\n",
       "\n",
       "    .dataframe thead th {\n",
       "        text-align: right;\n",
       "    }\n",
       "</style>\n",
       "<table border=\"1\" class=\"dataframe\">\n",
       "  <thead>\n",
       "    <tr style=\"text-align: right;\">\n",
       "      <th></th>\n",
       "      <th>gene</th>\n",
       "      <th>rna</th>\n",
       "      <th>logrna</th>\n",
       "    </tr>\n",
       "  </thead>\n",
       "  <tbody>\n",
       "    <tr>\n",
       "      <th>0</th>\n",
       "      <td>ENSG00000242268.2</td>\n",
       "      <td>0.091032</td>\n",
       "      <td>0.087124</td>\n",
       "    </tr>\n",
       "    <tr>\n",
       "      <th>1</th>\n",
       "      <td>ENSG00000270112.3</td>\n",
       "      <td>0.000000</td>\n",
       "      <td>0.000000</td>\n",
       "    </tr>\n",
       "    <tr>\n",
       "      <th>2</th>\n",
       "      <td>ENSG00000167578.15</td>\n",
       "      <td>3.037096</td>\n",
       "      <td>1.395526</td>\n",
       "    </tr>\n",
       "    <tr>\n",
       "      <th>3</th>\n",
       "      <td>ENSG00000273842.1</td>\n",
       "      <td>0.000000</td>\n",
       "      <td>0.000000</td>\n",
       "    </tr>\n",
       "    <tr>\n",
       "      <th>4</th>\n",
       "      <td>ENSG00000078237.5</td>\n",
       "      <td>0.748311</td>\n",
       "      <td>0.558650</td>\n",
       "    </tr>\n",
       "  </tbody>\n",
       "</table>\n",
       "</div>"
      ],
      "text/plain": [
       "                 gene       rna    logrna\n",
       "0   ENSG00000242268.2  0.091032  0.087124\n",
       "1   ENSG00000270112.3  0.000000  0.000000\n",
       "2  ENSG00000167578.15  3.037096  1.395526\n",
       "3   ENSG00000273842.1  0.000000  0.000000\n",
       "4   ENSG00000078237.5  0.748311  0.558650"
      ]
     },
     "execution_count": 20,
     "metadata": {},
     "output_type": "execute_result"
    }
   ],
   "source": [
    "import pandas as pd\n",
    "import numpy as np\n",
    "\n",
    "genedat = pd.read_csv(generna,\n",
    "                      sep = '\\t', header = None, names = ['gene', 'rna'] )\n",
    "\n",
    "# transform rna values \n",
    "\n",
    "genedat['logrna'] = genedat['rna'].transform(lambda x: np.log(x+1))\n",
    "print(genedat.count())\n",
    "genedat.head()"
   ]
  },
  {
   "cell_type": "markdown",
   "metadata": {},
   "source": [
    "- A link between clinical data to the gene expression can be made using the `File Name` and `Case ID` columns in the file `gdc_sample_sheet.xxx.tsv`."
   ]
  },
  {
   "cell_type": "code",
   "execution_count": 54,
   "metadata": {},
   "outputs": [
    {
     "data": {
      "text/html": [
       "<div>\n",
       "<style scoped>\n",
       "    .dataframe tbody tr th:only-of-type {\n",
       "        vertical-align: middle;\n",
       "    }\n",
       "\n",
       "    .dataframe tbody tr th {\n",
       "        vertical-align: top;\n",
       "    }\n",
       "\n",
       "    .dataframe thead th {\n",
       "        text-align: right;\n",
       "    }\n",
       "</style>\n",
       "<table border=\"1\" class=\"dataframe\">\n",
       "  <thead>\n",
       "    <tr style=\"text-align: right;\">\n",
       "      <th></th>\n",
       "      <th>File ID</th>\n",
       "      <th>File Name</th>\n",
       "      <th>Data Category</th>\n",
       "      <th>Data Type</th>\n",
       "      <th>Project ID</th>\n",
       "      <th>Case ID</th>\n",
       "      <th>Sample ID</th>\n",
       "      <th>Sample Type</th>\n",
       "    </tr>\n",
       "  </thead>\n",
       "  <tbody>\n",
       "    <tr>\n",
       "      <th>166</th>\n",
       "      <td>abce9187-0834-49c4-998d-b44d2472458a</td>\n",
       "      <td>413446bc-5b88-4b58-8105-abd9cd7a5ddd.FPKM.txt.gz</td>\n",
       "      <td>Transcriptome Profiling</td>\n",
       "      <td>Gene Expression Quantification</td>\n",
       "      <td>TCGA-LIHC</td>\n",
       "      <td>TCGA-DD-AAE6</td>\n",
       "      <td>TCGA-DD-AAE6-01A</td>\n",
       "      <td>Primary Tumor</td>\n",
       "    </tr>\n",
       "  </tbody>\n",
       "</table>\n",
       "</div>"
      ],
      "text/plain": [
       "                                  File ID  \\\n",
       "166  abce9187-0834-49c4-998d-b44d2472458a   \n",
       "\n",
       "                                            File Name  \\\n",
       "166  413446bc-5b88-4b58-8105-abd9cd7a5ddd.FPKM.txt.gz   \n",
       "\n",
       "               Data Category                       Data Type Project ID  \\\n",
       "166  Transcriptome Profiling  Gene Expression Quantification  TCGA-LIHC   \n",
       "\n",
       "          Case ID         Sample ID    Sample Type  \n",
       "166  TCGA-DD-AAE6  TCGA-DD-AAE6-01A  Primary Tumor  "
      ]
     },
     "execution_count": 54,
     "metadata": {},
     "output_type": "execute_result"
    }
   ],
   "source": [
    "# Look up the link for the gene expression file through the File Name\n",
    "links = pd.read_csv('gdc_sample_sheet.2020-01-30.tsv', sep = '\\t')\n",
    "filename = generna.split('/')[2] # extract filename from file path\n",
    "links[links['File Name'] == filename] # find match in link file"
   ]
  },
  {
   "cell_type": "code",
   "execution_count": 53,
   "metadata": {},
   "outputs": [
    {
     "data": {
      "text/html": [
       "<div>\n",
       "<style scoped>\n",
       "    .dataframe tbody tr th:only-of-type {\n",
       "        vertical-align: middle;\n",
       "    }\n",
       "\n",
       "    .dataframe tbody tr th {\n",
       "        vertical-align: top;\n",
       "    }\n",
       "\n",
       "    .dataframe thead th {\n",
       "        text-align: right;\n",
       "    }\n",
       "</style>\n",
       "<table border=\"1\" class=\"dataframe\">\n",
       "  <thead>\n",
       "    <tr style=\"text-align: right;\">\n",
       "      <th></th>\n",
       "      <th>submitter_id</th>\n",
       "      <th>age_at_index</th>\n",
       "      <th>gender</th>\n",
       "      <th>vital_status</th>\n",
       "      <th>days_to_death</th>\n",
       "      <th>days_to_last_follow_up</th>\n",
       "      <th>tumor_stage</th>\n",
       "      <th>tumor_grade</th>\n",
       "    </tr>\n",
       "  </thead>\n",
       "  <tbody>\n",
       "    <tr>\n",
       "      <th>392</th>\n",
       "      <td>TCGA-DD-AAE6</td>\n",
       "      <td>59</td>\n",
       "      <td>female</td>\n",
       "      <td>Alive</td>\n",
       "      <td>--</td>\n",
       "      <td>141</td>\n",
       "      <td>stage i</td>\n",
       "      <td>not reported</td>\n",
       "    </tr>\n",
       "    <tr>\n",
       "      <th>393</th>\n",
       "      <td>TCGA-DD-AAE6</td>\n",
       "      <td>59</td>\n",
       "      <td>female</td>\n",
       "      <td>Alive</td>\n",
       "      <td>--</td>\n",
       "      <td>141</td>\n",
       "      <td>stage i</td>\n",
       "      <td>not reported</td>\n",
       "    </tr>\n",
       "  </tbody>\n",
       "</table>\n",
       "</div>"
      ],
      "text/plain": [
       "     submitter_id age_at_index  gender vital_status days_to_death  \\\n",
       "392  TCGA-DD-AAE6           59  female        Alive            --   \n",
       "393  TCGA-DD-AAE6           59  female        Alive            --   \n",
       "\n",
       "    days_to_last_follow_up tumor_stage   tumor_grade  \n",
       "392                    141     stage i  not reported  \n",
       "393                    141     stage i  not reported  "
      ]
     },
     "execution_count": 53,
     "metadata": {},
     "output_type": "execute_result"
    }
   ],
   "source": [
    "# Find the clinical information Case ID above\n",
    "clinical = pd.read_csv('clinical.tsv', sep = '\\t')\n",
    "\n",
    "# extract Case ID from link file\n",
    "case_id = links[links['File Name'] == filename]['Case ID'].iloc[0]\n",
    "\n",
    "# use Case ID to select clinical data\n",
    "(clinical[clinical['submitter_id'] == case_id]\n",
    " [['submitter_id', 'age_at_index','gender','vital_status', \n",
    "   'days_to_death', 'days_to_last_follow_up', 'tumor_stage', \n",
    "   'tumor_grade']])"
   ]
  },
  {
   "cell_type": "markdown",
   "metadata": {},
   "source": [
    "# Issues to consider\n",
    "\n",
    "- How will you define if a subject is censored?\n",
    "- How will you derive the subgroups?\n",
    "- How will you visualize the results of your analyses?\n",
    "- How will you decide if the subgroups have different survival times?\n",
    "\n",
    "# Preparation Lab Expectations\n",
    "\n",
    "- Use this time to get familiar with the assignment expectations.\n",
    "- Work in pairs.  It's OK (and encouraged) to share information.\n",
    "- Develop strategies on how you plan to tackle the points in [Issues to consider](#Issues-to-consider) and other challenges such as data wrangling and statistical analysis.\n",
    "- During the last part of the tutorial give a very short presentation on your plan.  \n",
    "- By the end of the tutorial submit a brief written plan (via quercus) on how you will approach the assignment.  You will recieve some feedback from a TA in a few days after submitting. The format of the written plan can be short paragraphs, or detailed bullet points.  It's not necessary to include code or data.\n",
    "\n",
    "# Presentation Expectations\n",
    "\n",
    "The time allotted for each presentation is 7 minutes plus 3 minutes for questions/discussion. This time limit will be enforced. If you exceed the time limit then you will be asked to stop the presentation. This means that you should rehearse your presentation timing before you present to the class.\n",
    "\n",
    "## General Presentation Guidelines\n",
    "\n",
    "The goal of the presentation is to effectively communicate your findings to a non-technical, but educated, audience (e.g., scientists, physicians, health care executives, company managers, etc.). This doesn’t mean that you shouldn’t include technical details, but you should aim to communicate the findings to an audience without a background in statistics, math, or computer science.\n",
    "\n",
    "You will need to remind us about the project, but only tell us what we really need to know. We are curious about the results, and how you present the results, but they are not the only purpose of this presentation. So, what should you include? Examples, of questions to consider as you prepare your presentation are:\n",
    "\n",
    "What problem did your group set out to solve?\n",
    "How did you group define the problem?\n",
    "What do your results mean in practice? Do your results suggest something should change or not change?\n",
    "\n",
    "Your presentation will be graded using the [presentation rubric.](https://jsc370.github.io/assignment_rubrics.html#presentation_rubric)\n",
    "\n",
    "Presentation slides should be uploaded to Quercus by Feb. 11, 18:00.\n",
    "\n",
    "\n",
    "# Written Report Expectations\n",
    "\n",
    "The written report should be done using a Jupyter Notebook or RMarkdown document so that it's reproducible (i.e., we should be able to run the `.ipynb` or `.Rmd` file to reproduce the report). The written report should be at most five pages. This means that you will have to be selective in what you choose to report, and which plots you choose to display.\n",
    "\n",
    "## Answers to Some Common Questions about the Written Report\n",
    "\n",
    "\n",
    "It’s not necessary for R/Python code chunks to appear in the report (in R Markdown use the chunk options `echo=FALSE`, `warning = FALSE`, `message = FALSE` and in Jupyter use the command line tool `nbconvert` <sup><a href=\"#fn1\" id = \"ref1\">1</a></sup>) unless there is some part of the code that will contribute to describing what you have done in the data analysis. For example, don’t submit a report with warning messages from a library you loaded in your report. \n",
    "\n",
    "Also, you will be submitting your R Markdown/Jupyter Notebook file so we can see all the gory details. This leads to …\n",
    "\n",
    "What should be in the report? A high level description of what you have done. This leads to …\n",
    "\n",
    "Who is the intended audience for the report and what do you mean by a “high level description”? The intended audience is an educated person that has taken at least one basic statistics course, but might be a bit rusty on the details. For example, your supervisor at work completed an MBA ten years ago and took a few statistics courses, but the details are a bit hazy.\n",
    "\n",
    "## How will my writing be evaluated?\n",
    "\n",
    "Your writing will be evaluated for clarity and conciseness.\n",
    "\n",
    "**Title [1-5]:** There should be an appropriate title, adequate summary, and complete information including names and dates.\n",
    "\n",
    "**Introduction [1-5]:** The purpose of the research should be clearly stated and the scope of what is considered in the report should be clear.\n",
    "\n",
    "**Methods [1-5]:** The role of each method should be clearly stated. The description of the analyses should be clear and unambiguous so that another statistician or data scientist could easily re-construct it. The methods should be described accurately.\n",
    "\n",
    "\n",
    "**Results [1-5]:** There should be appropriate tables and graphs. The results should be clearly stated in the context of the problem. The size and direction of significant results should be given. The results must be accurately stated. The research question should be adequately answered.\n",
    "\n",
    "\n",
    "**Conclusion / Discussion [1-5]:** The results should be clearly and completely summarized. This section should also include discussion of limitations and/or concerns and/or suggestions for future consideration as appropriate.\n",
    "\n",
    "\n",
    "**General Considerations [1-5]:** The ideas should be presented in logical order, with well-organized sections, no grammatical, spelling, or punctuation errors, an appropriate level of technical detail, and be clear and easy to follow.\n",
    "\n",
    "## How will my data analysis and programming be evaluated?\n",
    "\n",
    "Data analysis and programming will be evaluated according to the [data analysis](https://jsc370.github.io/assignment_rubrics.html#data_analysis_rubric) and [programming](https://jsc370.github.io/assignment_rubrics.html#programming_rubric) rubrics.\n",
    "\n",
    "\n",
    "<hr></hr>\n",
    "\n",
    "<sup id=\"fn1\">1. For example, to convert foo.ipynb to an html document without code cells the command line syntax for nbconvert is: `jupyter nbconvert --TemplateExporter.exclude_input=True foo.ipynb`. For more information see the <a href=\"https://nbconvert.readthedocs.io/en/latest/install.html\">`nbconvert`</a> documentation <a href=\"#ref1\" title=\"Jump back to footnote 1 in the text.\"> ↩ </a></sup>\n",
    "\n"
   ]
  },
  {
   "cell_type": "code",
   "execution_count": null,
   "metadata": {},
   "outputs": [],
   "source": []
  }
 ],
 "metadata": {
  "hide_input": false,
  "jupytext": {
   "formats": "ipynb,md"
  },
  "kernelspec": {
   "display_name": "Python 3",
   "language": "python",
   "name": "python3"
  },
  "language_info": {
   "codemirror_mode": {
    "name": "ipython",
    "version": 3
   },
   "file_extension": ".py",
   "mimetype": "text/x-python",
   "name": "python",
   "nbconvert_exporter": "python",
   "pygments_lexer": "ipython3",
   "version": "3.7.6"
  }
 },
 "nbformat": 4,
 "nbformat_minor": 4
}
